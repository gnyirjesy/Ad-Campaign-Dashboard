{
 "cells": [
  {
   "cell_type": "markdown",
   "metadata": {},
   "source": [
    "This data is from a Facebook ad campaign. The campaign is focused on customer acquisition versus brand awareness. The primary goal is “Website Registrations Completed” and the secondary goal is “Website Leads.” The target acquisition cost for the primary goal was $50 or less."
   ]
  },
  {
   "cell_type": "code",
   "execution_count": 54,
   "metadata": {},
   "outputs": [],
   "source": [
    "#Import libraries\n",
    "import pandas as pd\n",
    "import numpy as np\n",
    "import matplotlib.pyplot as plt"
   ]
  },
  {
   "cell_type": "code",
   "execution_count": 32,
   "metadata": {},
   "outputs": [],
   "source": [
    "#Import data\n",
    "ads = pd.read_csv(\"/Users/gabbynyirjesy/Downloads/QA HW Data.csv\")"
   ]
  },
  {
   "cell_type": "code",
   "execution_count": 33,
   "metadata": {},
   "outputs": [
    {
     "data": {
      "text/html": [
       "<div>\n",
       "<style scoped>\n",
       "    .dataframe tbody tr th:only-of-type {\n",
       "        vertical-align: middle;\n",
       "    }\n",
       "\n",
       "    .dataframe tbody tr th {\n",
       "        vertical-align: top;\n",
       "    }\n",
       "\n",
       "    .dataframe thead th {\n",
       "        text-align: right;\n",
       "    }\n",
       "</style>\n",
       "<table border=\"1\" class=\"dataframe\">\n",
       "  <thead>\n",
       "    <tr style=\"text-align: right;\">\n",
       "      <th></th>\n",
       "      <th>Ad Set Name</th>\n",
       "      <th>Age</th>\n",
       "      <th>Gender</th>\n",
       "      <th>Reach</th>\n",
       "      <th>Frequency</th>\n",
       "      <th>Amount Spent (USD)</th>\n",
       "      <th>Impressions</th>\n",
       "      <th>CPM (Cost per 1,000 Impressions) (USD)</th>\n",
       "      <th>Link Clicks</th>\n",
       "      <th>CPC (Cost per Link Click) (USD)</th>\n",
       "      <th>CTR (Link Click-Through Rate)</th>\n",
       "      <th>Cost per 1,000 People Reached (USD)</th>\n",
       "      <th>Website Registrations Completed</th>\n",
       "      <th>Website Leads</th>\n",
       "      <th>Post Shares</th>\n",
       "      <th>Post Comments</th>\n",
       "      <th>Post Reactions</th>\n",
       "      <th>Cost per Website Registration Completed (USD)</th>\n",
       "      <th>Cost per Website Lead (USD)</th>\n",
       "    </tr>\n",
       "  </thead>\n",
       "  <tbody>\n",
       "    <tr>\n",
       "      <th>0</th>\n",
       "      <td>Ad Set 1</td>\n",
       "      <td>35-44</td>\n",
       "      <td>unknown</td>\n",
       "      <td>152</td>\n",
       "      <td>1.421053</td>\n",
       "      <td>3.12</td>\n",
       "      <td>216</td>\n",
       "      <td>14.444444</td>\n",
       "      <td>NaN</td>\n",
       "      <td>NaN</td>\n",
       "      <td>NaN</td>\n",
       "      <td>20.526316</td>\n",
       "      <td>NaN</td>\n",
       "      <td>NaN</td>\n",
       "      <td>1.0</td>\n",
       "      <td>NaN</td>\n",
       "      <td>5.0</td>\n",
       "      <td>NaN</td>\n",
       "      <td>NaN</td>\n",
       "    </tr>\n",
       "    <tr>\n",
       "      <th>1</th>\n",
       "      <td>Ad Set 1</td>\n",
       "      <td>35-44</td>\n",
       "      <td>female</td>\n",
       "      <td>6777</td>\n",
       "      <td>1.091486</td>\n",
       "      <td>101.53</td>\n",
       "      <td>7397</td>\n",
       "      <td>13.725835</td>\n",
       "      <td>21.0</td>\n",
       "      <td>4.834762</td>\n",
       "      <td>0.283899</td>\n",
       "      <td>14.981555</td>\n",
       "      <td>NaN</td>\n",
       "      <td>NaN</td>\n",
       "      <td>30.0</td>\n",
       "      <td>8.0</td>\n",
       "      <td>258.0</td>\n",
       "      <td>NaN</td>\n",
       "      <td>NaN</td>\n",
       "    </tr>\n",
       "    <tr>\n",
       "      <th>2</th>\n",
       "      <td>Ad Set 1</td>\n",
       "      <td>35-44</td>\n",
       "      <td>male</td>\n",
       "      <td>6041</td>\n",
       "      <td>1.191359</td>\n",
       "      <td>70.83</td>\n",
       "      <td>7197</td>\n",
       "      <td>9.841601</td>\n",
       "      <td>21.0</td>\n",
       "      <td>3.372857</td>\n",
       "      <td>0.291788</td>\n",
       "      <td>11.724880</td>\n",
       "      <td>NaN</td>\n",
       "      <td>5.0</td>\n",
       "      <td>50.0</td>\n",
       "      <td>18.0</td>\n",
       "      <td>283.0</td>\n",
       "      <td>NaN</td>\n",
       "      <td>14.166</td>\n",
       "    </tr>\n",
       "    <tr>\n",
       "      <th>3</th>\n",
       "      <td>Ad Set 1</td>\n",
       "      <td>25-34</td>\n",
       "      <td>unknown</td>\n",
       "      <td>314</td>\n",
       "      <td>1.000000</td>\n",
       "      <td>3.34</td>\n",
       "      <td>314</td>\n",
       "      <td>10.636943</td>\n",
       "      <td>1.0</td>\n",
       "      <td>3.340000</td>\n",
       "      <td>0.318471</td>\n",
       "      <td>10.636943</td>\n",
       "      <td>NaN</td>\n",
       "      <td>NaN</td>\n",
       "      <td>2.0</td>\n",
       "      <td>2.0</td>\n",
       "      <td>9.0</td>\n",
       "      <td>NaN</td>\n",
       "      <td>NaN</td>\n",
       "    </tr>\n",
       "    <tr>\n",
       "      <th>4</th>\n",
       "      <td>Ad Set 1</td>\n",
       "      <td>25-34</td>\n",
       "      <td>male</td>\n",
       "      <td>7184</td>\n",
       "      <td>1.092567</td>\n",
       "      <td>63.25</td>\n",
       "      <td>7849</td>\n",
       "      <td>8.058351</td>\n",
       "      <td>20.0</td>\n",
       "      <td>3.162500</td>\n",
       "      <td>0.254810</td>\n",
       "      <td>8.804287</td>\n",
       "      <td>NaN</td>\n",
       "      <td>2.0</td>\n",
       "      <td>36.0</td>\n",
       "      <td>28.0</td>\n",
       "      <td>218.0</td>\n",
       "      <td>NaN</td>\n",
       "      <td>31.625</td>\n",
       "    </tr>\n",
       "  </tbody>\n",
       "</table>\n",
       "</div>"
      ],
      "text/plain": [
       "  Ad Set Name    Age   Gender  Reach  Frequency  Amount Spent (USD)  \\\n",
       "0    Ad Set 1  35-44  unknown    152   1.421053                3.12   \n",
       "1    Ad Set 1  35-44   female   6777   1.091486              101.53   \n",
       "2    Ad Set 1  35-44     male   6041   1.191359               70.83   \n",
       "3    Ad Set 1  25-34  unknown    314   1.000000                3.34   \n",
       "4    Ad Set 1  25-34     male   7184   1.092567               63.25   \n",
       "\n",
       "   Impressions  CPM (Cost per 1,000 Impressions) (USD)  Link Clicks  \\\n",
       "0          216                               14.444444          NaN   \n",
       "1         7397                               13.725835         21.0   \n",
       "2         7197                                9.841601         21.0   \n",
       "3          314                               10.636943          1.0   \n",
       "4         7849                                8.058351         20.0   \n",
       "\n",
       "   CPC (Cost per Link Click) (USD)  CTR (Link Click-Through Rate)  \\\n",
       "0                              NaN                            NaN   \n",
       "1                         4.834762                       0.283899   \n",
       "2                         3.372857                       0.291788   \n",
       "3                         3.340000                       0.318471   \n",
       "4                         3.162500                       0.254810   \n",
       "\n",
       "   Cost per 1,000 People Reached (USD)  Website Registrations Completed  \\\n",
       "0                            20.526316                              NaN   \n",
       "1                            14.981555                              NaN   \n",
       "2                            11.724880                              NaN   \n",
       "3                            10.636943                              NaN   \n",
       "4                             8.804287                              NaN   \n",
       "\n",
       "   Website Leads  Post Shares  Post Comments  Post Reactions  \\\n",
       "0            NaN          1.0            NaN             5.0   \n",
       "1            NaN         30.0            8.0           258.0   \n",
       "2            5.0         50.0           18.0           283.0   \n",
       "3            NaN          2.0            2.0             9.0   \n",
       "4            2.0         36.0           28.0           218.0   \n",
       "\n",
       "   Cost per Website Registration Completed (USD)  Cost per Website Lead (USD)  \n",
       "0                                            NaN                          NaN  \n",
       "1                                            NaN                          NaN  \n",
       "2                                            NaN                       14.166  \n",
       "3                                            NaN                          NaN  \n",
       "4                                            NaN                       31.625  "
      ]
     },
     "execution_count": 33,
     "metadata": {},
     "output_type": "execute_result"
    }
   ],
   "source": [
    "#Preview data\n",
    "ads.head()"
   ]
  },
  {
   "cell_type": "code",
   "execution_count": 41,
   "metadata": {},
   "outputs": [
    {
     "data": {
      "text/plain": [
       "36"
      ]
     },
     "execution_count": 41,
     "metadata": {},
     "output_type": "execute_result"
    }
   ],
   "source": [
    "#Since we are focusing on ad campaign success, identify how many unique ad campaigns are included in data\n",
    "len(ads['Ad Set Name'].unique())"
   ]
  },
  {
   "cell_type": "code",
   "execution_count": 34,
   "metadata": {},
   "outputs": [],
   "source": [
    "#Define functions\n",
    "#Set of functions for data cleaning\n",
    "class clean():\n",
    "    '''\n",
    "    Functions used to clean data sets. \n",
    "    to_binary: convert features consisting of only yes/no values to a binary indicator\n",
    "    identify_uniform: Remove columns that contain only one value (ignoring N/A)\n",
    "    identify_diverse_cat: Identify and/or delete columns above a specified limit of unique values\n",
    "    lable_encoding: Label encode categorical variables\n",
    "    \n",
    "    '''\n",
    "    \n",
    "    def to_binary(df):\n",
    "        '''\n",
    "        Convert features consisting of only yes/no values to a binary indicator\n",
    "        to_binary(df) --> df with yes/no columns converted to 1/0\n",
    "        '''\n",
    "        for col in df:\n",
    "            if len(df[col].unique() == 2) and not df[col].isna().values.any():\n",
    "                if 'No' in df[col].unique() and 'Yes' in df[col].unique():\n",
    "                    df[col] = np.where(df[col] == 'No', 0, 1)\n",
    "        return(df)\n",
    "    \n",
    "    def convert_to_float_try_except(col):\n",
    "        '''\n",
    "        Convert variable to float, with try-except loop to catch any type errors and set errors to zero\n",
    "        convert_to_float_try_except(df, col) --> df with column converted to float\n",
    "        '''\n",
    "        try:\n",
    "            new_col = float(col)\n",
    "        except ValueError:\n",
    "            new_col = 0\n",
    "        new_col = float(new_col)\n",
    "        return(new_col)\n",
    "\n",
    "    def identify_uniform(df):\n",
    "        '''\n",
    "        Identify features that contain only one value (ignoring N/A)\n",
    "        identify_uniform(df) --> list of uniform columns\n",
    "        '''\n",
    "        uniform_vars = []\n",
    "        for col in df.columns:\n",
    "            if len((df[col][df[col] != 'nan']).value_counts()) <= 1:\n",
    "                uniform_vars.append(col)\n",
    "        print('The following features are uniform:\\n', uniform_vars)\n",
    "        \n",
    "        return(uniform_vars)\n",
    "    \n",
    "    def identify_diverse_cat(df, limit, delete):\n",
    "        '''\n",
    "        Identify and/or delete columns above a specified limit of unique values\n",
    "        identify_diverse_cat(df, limit, delete) --> df\n",
    "        '''\n",
    "        cat_cols = list(df.select_dtypes(exclude=[np.number]).columns.values)\n",
    "        \n",
    "        for col in cat_cols:\n",
    "            num_unique = len(list(df[col].unique()))\n",
    "            if num_unique >= limit:\n",
    "                if delete:\n",
    "                    df = df.drop([col], axis=1)\n",
    "                    print(f'{col} column was deleted becuase it had {num_unique} categories')\n",
    "                else:\n",
    "                    print(f'{col} column has {num_unique} categories and should be binned or transformed')\n",
    "        return(df)\n",
    "                \n",
    "    \n",
    "    def label_encoding(df):\n",
    "        '''\n",
    "        Label encode categorical variables\n",
    "        label_encoding(df) --> df with categorical features label encoded\n",
    "        '''\n",
    "        label_encoder = LabelEncoder()\n",
    "        categorical_list = list(df.select_dtypes(exclude=[np.number]).columns)\n",
    "        for col in categorical_list:\n",
    "            df[col] = df[col].apply(str)\n",
    "            df[col] = label_encoder.fit_transform(df[col])\n",
    "        return(df)\n",
    "    \n",
    "    def find_na_cols(df):\n",
    "        '''\n",
    "        Find columns that contain any n/a values\n",
    "        find_na_cols(df) --> list of columns that contain n/a\n",
    "        '''\n",
    "        return(df.isna().any()[lambda x:x])\n",
    "        "
   ]
  },
  {
   "cell_type": "code",
   "execution_count": 35,
   "metadata": {},
   "outputs": [
    {
     "name": "stdout",
     "output_type": "stream",
     "text": [
      "<class 'pandas.core.frame.DataFrame'>\n",
      "RangeIndex: 259 entries, 0 to 258\n",
      "Data columns (total 19 columns):\n",
      " #   Column                                         Non-Null Count  Dtype  \n",
      "---  ------                                         --------------  -----  \n",
      " 0   Ad Set Name                                    259 non-null    object \n",
      " 1   Age                                            259 non-null    object \n",
      " 2   Gender                                         259 non-null    object \n",
      " 3   Reach                                          259 non-null    int64  \n",
      " 4   Frequency                                      259 non-null    float64\n",
      " 5   Amount Spent (USD)                             259 non-null    float64\n",
      " 6   Impressions                                    259 non-null    int64  \n",
      " 7   CPM (Cost per 1,000 Impressions) (USD)         259 non-null    float64\n",
      " 8   Link Clicks                                    197 non-null    float64\n",
      " 9   CPC (Cost per Link Click) (USD)                197 non-null    float64\n",
      " 10  CTR (Link Click-Through Rate)                  197 non-null    float64\n",
      " 11  Cost per 1,000 People Reached (USD)            259 non-null    float64\n",
      " 12  Website Registrations Completed                100 non-null    float64\n",
      " 13  Website Leads                                  146 non-null    float64\n",
      " 14  Post Shares                                    119 non-null    float64\n",
      " 15  Post Comments                                  79 non-null     float64\n",
      " 16  Post Reactions                                 161 non-null    float64\n",
      " 17  Cost per Website Registration Completed (USD)  100 non-null    float64\n",
      " 18  Cost per Website Lead (USD)                    146 non-null    float64\n",
      "dtypes: float64(14), int64(2), object(3)\n",
      "memory usage: 38.6+ KB\n"
     ]
    }
   ],
   "source": [
    "#View information on features and data types\n",
    "ads.info()"
   ]
  },
  {
   "cell_type": "code",
   "execution_count": 36,
   "metadata": {},
   "outputs": [
    {
     "data": {
      "text/plain": [
       "Link Clicks                                      True\n",
       "CPC (Cost per Link Click) (USD)                  True\n",
       "CTR (Link Click-Through Rate)                    True\n",
       "Website Registrations Completed                  True\n",
       "Website Leads                                    True\n",
       "Post Shares                                      True\n",
       "Post Comments                                    True\n",
       "Post Reactions                                   True\n",
       "Cost per Website Registration Completed (USD)    True\n",
       "Cost per Website Lead (USD)                      True\n",
       "dtype: bool"
      ]
     },
     "execution_count": 36,
     "metadata": {},
     "output_type": "execute_result"
    }
   ],
   "source": [
    "#Find all columns that contain n/a's\n",
    "clean.find_na_cols(ads)"
   ]
  },
  {
   "cell_type": "code",
   "execution_count": 45,
   "metadata": {},
   "outputs": [],
   "source": [
    "#Some of the columns containing n/a's can be imputed to zero:\n",
    "impute_to_zero_cols = ['Link Clicks', 'Website Registrations Completed', 'Website Leads', 'Post Shares',\n",
    "                       'Post Comments', 'Post Reactions']\n",
    "ads[impute_to_zero_cols] = ads[impute_to_zero_cols].fillna(0)"
   ]
  },
  {
   "cell_type": "code",
   "execution_count": 47,
   "metadata": {},
   "outputs": [
    {
     "data": {
      "text/plain": [
       "CPC (Cost per Link Click) (USD)                  True\n",
       "CTR (Link Click-Through Rate)                    True\n",
       "Cost per Website Registration Completed (USD)    True\n",
       "Cost per Website Lead (USD)                      True\n",
       "dtype: bool"
      ]
     },
     "execution_count": 47,
     "metadata": {},
     "output_type": "execute_result"
    }
   ],
   "source": [
    "#Confirm all columns identified were imputed to zero\n",
    "clean.find_na_cols(ads)"
   ]
  },
  {
   "cell_type": "code",
   "execution_count": 38,
   "metadata": {},
   "outputs": [
    {
     "data": {
      "text/html": [
       "<div>\n",
       "<style scoped>\n",
       "    .dataframe tbody tr th:only-of-type {\n",
       "        vertical-align: middle;\n",
       "    }\n",
       "\n",
       "    .dataframe tbody tr th {\n",
       "        vertical-align: top;\n",
       "    }\n",
       "\n",
       "    .dataframe thead th {\n",
       "        text-align: right;\n",
       "    }\n",
       "</style>\n",
       "<table border=\"1\" class=\"dataframe\">\n",
       "  <thead>\n",
       "    <tr style=\"text-align: right;\">\n",
       "      <th></th>\n",
       "      <th>Ad Set Name</th>\n",
       "      <th>Age</th>\n",
       "      <th>Gender</th>\n",
       "      <th>Reach</th>\n",
       "      <th>Frequency</th>\n",
       "      <th>Amount Spent (USD)</th>\n",
       "      <th>Impressions</th>\n",
       "      <th>CPM (Cost per 1,000 Impressions) (USD)</th>\n",
       "      <th>Link Clicks</th>\n",
       "      <th>CPC (Cost per Link Click) (USD)</th>\n",
       "      <th>CTR (Link Click-Through Rate)</th>\n",
       "      <th>Cost per 1,000 People Reached (USD)</th>\n",
       "      <th>Website Registrations Completed</th>\n",
       "      <th>Website Leads</th>\n",
       "      <th>Post Shares</th>\n",
       "      <th>Post Comments</th>\n",
       "      <th>Post Reactions</th>\n",
       "      <th>Cost per Website Registration Completed (USD)</th>\n",
       "      <th>Cost per Website Lead (USD)</th>\n",
       "    </tr>\n",
       "  </thead>\n",
       "  <tbody>\n",
       "    <tr>\n",
       "      <th>0</th>\n",
       "      <td>Ad Set 1</td>\n",
       "      <td>35-44</td>\n",
       "      <td>unknown</td>\n",
       "      <td>152</td>\n",
       "      <td>1.421053</td>\n",
       "      <td>3.12</td>\n",
       "      <td>216</td>\n",
       "      <td>14.444444</td>\n",
       "      <td>NaN</td>\n",
       "      <td>NaN</td>\n",
       "      <td>NaN</td>\n",
       "      <td>20.526316</td>\n",
       "      <td>NaN</td>\n",
       "      <td>NaN</td>\n",
       "      <td>1.0</td>\n",
       "      <td>NaN</td>\n",
       "      <td>5.0</td>\n",
       "      <td>NaN</td>\n",
       "      <td>NaN</td>\n",
       "    </tr>\n",
       "    <tr>\n",
       "      <th>6</th>\n",
       "      <td>Ad Set 2</td>\n",
       "      <td>35-44</td>\n",
       "      <td>unknown</td>\n",
       "      <td>112</td>\n",
       "      <td>1.223214</td>\n",
       "      <td>2.97</td>\n",
       "      <td>137</td>\n",
       "      <td>21.678832</td>\n",
       "      <td>NaN</td>\n",
       "      <td>NaN</td>\n",
       "      <td>NaN</td>\n",
       "      <td>26.517857</td>\n",
       "      <td>NaN</td>\n",
       "      <td>NaN</td>\n",
       "      <td>NaN</td>\n",
       "      <td>NaN</td>\n",
       "      <td>NaN</td>\n",
       "      <td>NaN</td>\n",
       "      <td>NaN</td>\n",
       "    </tr>\n",
       "    <tr>\n",
       "      <th>8</th>\n",
       "      <td>Ad Set 2</td>\n",
       "      <td>25-34</td>\n",
       "      <td>unknown</td>\n",
       "      <td>168</td>\n",
       "      <td>1.255952</td>\n",
       "      <td>4.25</td>\n",
       "      <td>211</td>\n",
       "      <td>20.142180</td>\n",
       "      <td>NaN</td>\n",
       "      <td>NaN</td>\n",
       "      <td>NaN</td>\n",
       "      <td>25.297619</td>\n",
       "      <td>NaN</td>\n",
       "      <td>NaN</td>\n",
       "      <td>NaN</td>\n",
       "      <td>NaN</td>\n",
       "      <td>1.0</td>\n",
       "      <td>NaN</td>\n",
       "      <td>NaN</td>\n",
       "    </tr>\n",
       "    <tr>\n",
       "      <th>13</th>\n",
       "      <td>Ad Set 3</td>\n",
       "      <td>25-34</td>\n",
       "      <td>unknown</td>\n",
       "      <td>27</td>\n",
       "      <td>1.000000</td>\n",
       "      <td>0.55</td>\n",
       "      <td>27</td>\n",
       "      <td>20.370370</td>\n",
       "      <td>NaN</td>\n",
       "      <td>NaN</td>\n",
       "      <td>NaN</td>\n",
       "      <td>20.370370</td>\n",
       "      <td>NaN</td>\n",
       "      <td>NaN</td>\n",
       "      <td>NaN</td>\n",
       "      <td>NaN</td>\n",
       "      <td>NaN</td>\n",
       "      <td>NaN</td>\n",
       "      <td>NaN</td>\n",
       "    </tr>\n",
       "    <tr>\n",
       "      <th>17</th>\n",
       "      <td>Ad Set 3</td>\n",
       "      <td>35-44</td>\n",
       "      <td>unknown</td>\n",
       "      <td>19</td>\n",
       "      <td>1.000000</td>\n",
       "      <td>0.60</td>\n",
       "      <td>19</td>\n",
       "      <td>31.578947</td>\n",
       "      <td>NaN</td>\n",
       "      <td>NaN</td>\n",
       "      <td>NaN</td>\n",
       "      <td>31.578947</td>\n",
       "      <td>NaN</td>\n",
       "      <td>NaN</td>\n",
       "      <td>NaN</td>\n",
       "      <td>NaN</td>\n",
       "      <td>NaN</td>\n",
       "      <td>NaN</td>\n",
       "      <td>NaN</td>\n",
       "    </tr>\n",
       "  </tbody>\n",
       "</table>\n",
       "</div>"
      ],
      "text/plain": [
       "   Ad Set Name    Age   Gender  Reach  Frequency  Amount Spent (USD)  \\\n",
       "0     Ad Set 1  35-44  unknown    152   1.421053                3.12   \n",
       "6     Ad Set 2  35-44  unknown    112   1.223214                2.97   \n",
       "8     Ad Set 2  25-34  unknown    168   1.255952                4.25   \n",
       "13    Ad Set 3  25-34  unknown     27   1.000000                0.55   \n",
       "17    Ad Set 3  35-44  unknown     19   1.000000                0.60   \n",
       "\n",
       "    Impressions  CPM (Cost per 1,000 Impressions) (USD)  Link Clicks  \\\n",
       "0           216                               14.444444          NaN   \n",
       "6           137                               21.678832          NaN   \n",
       "8           211                               20.142180          NaN   \n",
       "13           27                               20.370370          NaN   \n",
       "17           19                               31.578947          NaN   \n",
       "\n",
       "    CPC (Cost per Link Click) (USD)  CTR (Link Click-Through Rate)  \\\n",
       "0                               NaN                            NaN   \n",
       "6                               NaN                            NaN   \n",
       "8                               NaN                            NaN   \n",
       "13                              NaN                            NaN   \n",
       "17                              NaN                            NaN   \n",
       "\n",
       "    Cost per 1,000 People Reached (USD)  Website Registrations Completed  \\\n",
       "0                             20.526316                              NaN   \n",
       "6                             26.517857                              NaN   \n",
       "8                             25.297619                              NaN   \n",
       "13                            20.370370                              NaN   \n",
       "17                            31.578947                              NaN   \n",
       "\n",
       "    Website Leads  Post Shares  Post Comments  Post Reactions  \\\n",
       "0             NaN          1.0            NaN             5.0   \n",
       "6             NaN          NaN            NaN             NaN   \n",
       "8             NaN          NaN            NaN             1.0   \n",
       "13            NaN          NaN            NaN             NaN   \n",
       "17            NaN          NaN            NaN             NaN   \n",
       "\n",
       "    Cost per Website Registration Completed (USD)  Cost per Website Lead (USD)  \n",
       "0                                             NaN                          NaN  \n",
       "6                                             NaN                          NaN  \n",
       "8                                             NaN                          NaN  \n",
       "13                                            NaN                          NaN  \n",
       "17                                            NaN                          NaN  "
      ]
     },
     "execution_count": 38,
     "metadata": {},
     "output_type": "execute_result"
    }
   ],
   "source": [
    "ads[ads['Link Clicks'].isna()].head()"
   ]
  },
  {
   "cell_type": "code",
   "execution_count": 39,
   "metadata": {},
   "outputs": [
    {
     "data": {
      "text/html": [
       "<div>\n",
       "<style scoped>\n",
       "    .dataframe tbody tr th:only-of-type {\n",
       "        vertical-align: middle;\n",
       "    }\n",
       "\n",
       "    .dataframe tbody tr th {\n",
       "        vertical-align: top;\n",
       "    }\n",
       "\n",
       "    .dataframe thead th {\n",
       "        text-align: right;\n",
       "    }\n",
       "</style>\n",
       "<table border=\"1\" class=\"dataframe\">\n",
       "  <thead>\n",
       "    <tr style=\"text-align: right;\">\n",
       "      <th></th>\n",
       "      <th>Reach</th>\n",
       "      <th>Frequency</th>\n",
       "      <th>Amount Spent (USD)</th>\n",
       "      <th>Impressions</th>\n",
       "      <th>CPM (Cost per 1,000 Impressions) (USD)</th>\n",
       "      <th>Link Clicks</th>\n",
       "      <th>CPC (Cost per Link Click) (USD)</th>\n",
       "      <th>CTR (Link Click-Through Rate)</th>\n",
       "      <th>Cost per 1,000 People Reached (USD)</th>\n",
       "      <th>Website Registrations Completed</th>\n",
       "      <th>Website Leads</th>\n",
       "      <th>Post Shares</th>\n",
       "      <th>Post Comments</th>\n",
       "      <th>Post Reactions</th>\n",
       "      <th>Cost per Website Registration Completed (USD)</th>\n",
       "      <th>Cost per Website Lead (USD)</th>\n",
       "    </tr>\n",
       "  </thead>\n",
       "  <tbody>\n",
       "    <tr>\n",
       "      <th>count</th>\n",
       "      <td>259.000000</td>\n",
       "      <td>259.000000</td>\n",
       "      <td>259.000000</td>\n",
       "      <td>259.000000</td>\n",
       "      <td>259.000000</td>\n",
       "      <td>197.000000</td>\n",
       "      <td>197.000000</td>\n",
       "      <td>197.000000</td>\n",
       "      <td>259.000000</td>\n",
       "      <td>100.00000</td>\n",
       "      <td>146.000000</td>\n",
       "      <td>119.000000</td>\n",
       "      <td>79.000000</td>\n",
       "      <td>161.000000</td>\n",
       "      <td>100.000000</td>\n",
       "      <td>146.000000</td>\n",
       "    </tr>\n",
       "    <tr>\n",
       "      <th>mean</th>\n",
       "      <td>3671.100386</td>\n",
       "      <td>1.010491</td>\n",
       "      <td>116.105869</td>\n",
       "      <td>4357.135135</td>\n",
       "      <td>29.040505</td>\n",
       "      <td>61.964467</td>\n",
       "      <td>4.003154</td>\n",
       "      <td>0.966756</td>\n",
       "      <td>28.929552</td>\n",
       "      <td>5.72000</td>\n",
       "      <td>14.013699</td>\n",
       "      <td>9.235294</td>\n",
       "      <td>5.037975</td>\n",
       "      <td>25.602484</td>\n",
       "      <td>64.394784</td>\n",
       "      <td>21.545448</td>\n",
       "    </tr>\n",
       "    <tr>\n",
       "      <th>std</th>\n",
       "      <td>7308.108027</td>\n",
       "      <td>0.356852</td>\n",
       "      <td>242.001466</td>\n",
       "      <td>9293.016793</td>\n",
       "      <td>12.884848</td>\n",
       "      <td>132.880158</td>\n",
       "      <td>2.653478</td>\n",
       "      <td>0.523315</td>\n",
       "      <td>12.652657</td>\n",
       "      <td>9.83303</td>\n",
       "      <td>29.016282</td>\n",
       "      <td>14.118569</td>\n",
       "      <td>5.499284</td>\n",
       "      <td>47.364449</td>\n",
       "      <td>42.744967</td>\n",
       "      <td>15.363916</td>\n",
       "    </tr>\n",
       "    <tr>\n",
       "      <th>min</th>\n",
       "      <td>0.000000</td>\n",
       "      <td>0.000000</td>\n",
       "      <td>0.000000</td>\n",
       "      <td>1.000000</td>\n",
       "      <td>0.000000</td>\n",
       "      <td>1.000000</td>\n",
       "      <td>0.866667</td>\n",
       "      <td>0.158228</td>\n",
       "      <td>0.000000</td>\n",
       "      <td>1.00000</td>\n",
       "      <td>1.000000</td>\n",
       "      <td>1.000000</td>\n",
       "      <td>1.000000</td>\n",
       "      <td>1.000000</td>\n",
       "      <td>9.030000</td>\n",
       "      <td>1.632500</td>\n",
       "    </tr>\n",
       "    <tr>\n",
       "      <th>25%</th>\n",
       "      <td>116.000000</td>\n",
       "      <td>1.000000</td>\n",
       "      <td>3.150000</td>\n",
       "      <td>134.500000</td>\n",
       "      <td>22.181900</td>\n",
       "      <td>4.000000</td>\n",
       "      <td>2.251429</td>\n",
       "      <td>0.671324</td>\n",
       "      <td>24.615377</td>\n",
       "      <td>1.00000</td>\n",
       "      <td>2.000000</td>\n",
       "      <td>1.500000</td>\n",
       "      <td>1.000000</td>\n",
       "      <td>2.000000</td>\n",
       "      <td>35.511250</td>\n",
       "      <td>11.653132</td>\n",
       "    </tr>\n",
       "    <tr>\n",
       "      <th>50%</th>\n",
       "      <td>936.000000</td>\n",
       "      <td>1.030817</td>\n",
       "      <td>32.490000</td>\n",
       "      <td>979.000000</td>\n",
       "      <td>28.022398</td>\n",
       "      <td>16.000000</td>\n",
       "      <td>3.323939</td>\n",
       "      <td>0.947867</td>\n",
       "      <td>30.113924</td>\n",
       "      <td>2.50000</td>\n",
       "      <td>5.000000</td>\n",
       "      <td>4.000000</td>\n",
       "      <td>3.000000</td>\n",
       "      <td>5.000000</td>\n",
       "      <td>50.271917</td>\n",
       "      <td>17.360556</td>\n",
       "    </tr>\n",
       "    <tr>\n",
       "      <th>75%</th>\n",
       "      <td>3762.000000</td>\n",
       "      <td>1.179984</td>\n",
       "      <td>96.515000</td>\n",
       "      <td>3986.000000</td>\n",
       "      <td>34.339459</td>\n",
       "      <td>53.000000</td>\n",
       "      <td>4.834762</td>\n",
       "      <td>1.215344</td>\n",
       "      <td>37.299423</td>\n",
       "      <td>5.25000</td>\n",
       "      <td>11.000000</td>\n",
       "      <td>9.000000</td>\n",
       "      <td>7.000000</td>\n",
       "      <td>28.000000</td>\n",
       "      <td>76.292500</td>\n",
       "      <td>26.556470</td>\n",
       "    </tr>\n",
       "    <tr>\n",
       "      <th>max</th>\n",
       "      <td>53824.000000</td>\n",
       "      <td>2.325893</td>\n",
       "      <td>2022.610000</td>\n",
       "      <td>66118.000000</td>\n",
       "      <td>140.000000</td>\n",
       "      <td>1021.000000</td>\n",
       "      <td>18.125000</td>\n",
       "      <td>4.545455</td>\n",
       "      <td>70.000000</td>\n",
       "      <td>72.00000</td>\n",
       "      <td>235.000000</td>\n",
       "      <td>100.000000</td>\n",
       "      <td>28.000000</td>\n",
       "      <td>283.000000</td>\n",
       "      <td>207.900000</td>\n",
       "      <td>101.480000</td>\n",
       "    </tr>\n",
       "  </tbody>\n",
       "</table>\n",
       "</div>"
      ],
      "text/plain": [
       "              Reach   Frequency  Amount Spent (USD)   Impressions  \\\n",
       "count    259.000000  259.000000          259.000000    259.000000   \n",
       "mean    3671.100386    1.010491          116.105869   4357.135135   \n",
       "std     7308.108027    0.356852          242.001466   9293.016793   \n",
       "min        0.000000    0.000000            0.000000      1.000000   \n",
       "25%      116.000000    1.000000            3.150000    134.500000   \n",
       "50%      936.000000    1.030817           32.490000    979.000000   \n",
       "75%     3762.000000    1.179984           96.515000   3986.000000   \n",
       "max    53824.000000    2.325893         2022.610000  66118.000000   \n",
       "\n",
       "       CPM (Cost per 1,000 Impressions) (USD)  Link Clicks  \\\n",
       "count                              259.000000   197.000000   \n",
       "mean                                29.040505    61.964467   \n",
       "std                                 12.884848   132.880158   \n",
       "min                                  0.000000     1.000000   \n",
       "25%                                 22.181900     4.000000   \n",
       "50%                                 28.022398    16.000000   \n",
       "75%                                 34.339459    53.000000   \n",
       "max                                140.000000  1021.000000   \n",
       "\n",
       "       CPC (Cost per Link Click) (USD)  CTR (Link Click-Through Rate)  \\\n",
       "count                       197.000000                     197.000000   \n",
       "mean                          4.003154                       0.966756   \n",
       "std                           2.653478                       0.523315   \n",
       "min                           0.866667                       0.158228   \n",
       "25%                           2.251429                       0.671324   \n",
       "50%                           3.323939                       0.947867   \n",
       "75%                           4.834762                       1.215344   \n",
       "max                          18.125000                       4.545455   \n",
       "\n",
       "       Cost per 1,000 People Reached (USD)  Website Registrations Completed  \\\n",
       "count                           259.000000                        100.00000   \n",
       "mean                             28.929552                          5.72000   \n",
       "std                              12.652657                          9.83303   \n",
       "min                               0.000000                          1.00000   \n",
       "25%                              24.615377                          1.00000   \n",
       "50%                              30.113924                          2.50000   \n",
       "75%                              37.299423                          5.25000   \n",
       "max                              70.000000                         72.00000   \n",
       "\n",
       "       Website Leads  Post Shares  Post Comments  Post Reactions  \\\n",
       "count     146.000000   119.000000      79.000000      161.000000   \n",
       "mean       14.013699     9.235294       5.037975       25.602484   \n",
       "std        29.016282    14.118569       5.499284       47.364449   \n",
       "min         1.000000     1.000000       1.000000        1.000000   \n",
       "25%         2.000000     1.500000       1.000000        2.000000   \n",
       "50%         5.000000     4.000000       3.000000        5.000000   \n",
       "75%        11.000000     9.000000       7.000000       28.000000   \n",
       "max       235.000000   100.000000      28.000000      283.000000   \n",
       "\n",
       "       Cost per Website Registration Completed (USD)  \\\n",
       "count                                     100.000000   \n",
       "mean                                       64.394784   \n",
       "std                                        42.744967   \n",
       "min                                         9.030000   \n",
       "25%                                        35.511250   \n",
       "50%                                        50.271917   \n",
       "75%                                        76.292500   \n",
       "max                                       207.900000   \n",
       "\n",
       "       Cost per Website Lead (USD)  \n",
       "count                   146.000000  \n",
       "mean                     21.545448  \n",
       "std                      15.363916  \n",
       "min                       1.632500  \n",
       "25%                      11.653132  \n",
       "50%                      17.360556  \n",
       "75%                      26.556470  \n",
       "max                     101.480000  "
      ]
     },
     "execution_count": 39,
     "metadata": {},
     "output_type": "execute_result"
    }
   ],
   "source": [
    "ads.describe()"
   ]
  },
  {
   "cell_type": "code",
   "execution_count": 49,
   "metadata": {},
   "outputs": [
    {
     "data": {
      "text/plain": [
       "array(['35-44', '25-34', '45-54', '65+', '55-64', '18-24'], dtype=object)"
      ]
     },
     "execution_count": 49,
     "metadata": {},
     "output_type": "execute_result"
    }
   ],
   "source": [
    "#View how many age groups are included\n",
    "ads['Age'].unique()"
   ]
  },
  {
   "cell_type": "code",
   "execution_count": 50,
   "metadata": {},
   "outputs": [
    {
     "data": {
      "text/plain": [
       "array(['unknown', 'female', 'male'], dtype=object)"
      ]
     },
     "execution_count": 50,
     "metadata": {},
     "output_type": "execute_result"
    }
   ],
   "source": [
    "ads['Gender'].unique()"
   ]
  },
  {
   "cell_type": "code",
   "execution_count": 53,
   "metadata": {},
   "outputs": [],
   "source": [
    "ads['Ad Set Name'] = ads['Ad Set Name'].apply(lambda x: x.replace('Ad Set ',''))"
   ]
  },
  {
   "cell_type": "code",
   "execution_count": 135,
   "metadata": {},
   "outputs": [
    {
     "data": {
      "text/html": [
       "<div>\n",
       "<style scoped>\n",
       "    .dataframe tbody tr th:only-of-type {\n",
       "        vertical-align: middle;\n",
       "    }\n",
       "\n",
       "    .dataframe tbody tr th {\n",
       "        vertical-align: top;\n",
       "    }\n",
       "\n",
       "    .dataframe thead tr th {\n",
       "        text-align: left;\n",
       "    }\n",
       "\n",
       "    .dataframe thead tr:last-of-type th {\n",
       "        text-align: right;\n",
       "    }\n",
       "</style>\n",
       "<table border=\"1\" class=\"dataframe\">\n",
       "  <thead>\n",
       "    <tr>\n",
       "      <th></th>\n",
       "      <th colspan=\"3\" halign=\"left\">conversion_percent</th>\n",
       "    </tr>\n",
       "    <tr>\n",
       "      <th>Gender</th>\n",
       "      <th>female</th>\n",
       "      <th>male</th>\n",
       "      <th>unknown</th>\n",
       "    </tr>\n",
       "    <tr>\n",
       "      <th>Age</th>\n",
       "      <th></th>\n",
       "      <th></th>\n",
       "      <th></th>\n",
       "    </tr>\n",
       "  </thead>\n",
       "  <tbody>\n",
       "    <tr>\n",
       "      <th>18-24</th>\n",
       "      <td>0.00</td>\n",
       "      <td>0.00</td>\n",
       "      <td>NaN</td>\n",
       "    </tr>\n",
       "    <tr>\n",
       "      <th>25-34</th>\n",
       "      <td>0.06</td>\n",
       "      <td>0.06</td>\n",
       "      <td>0.04</td>\n",
       "    </tr>\n",
       "    <tr>\n",
       "      <th>35-44</th>\n",
       "      <td>0.05</td>\n",
       "      <td>0.04</td>\n",
       "      <td>0.03</td>\n",
       "    </tr>\n",
       "    <tr>\n",
       "      <th>45-54</th>\n",
       "      <td>0.00</td>\n",
       "      <td>0.00</td>\n",
       "      <td>0.00</td>\n",
       "    </tr>\n",
       "    <tr>\n",
       "      <th>55-64</th>\n",
       "      <td>0.00</td>\n",
       "      <td>0.00</td>\n",
       "      <td>0.00</td>\n",
       "    </tr>\n",
       "    <tr>\n",
       "      <th>65+</th>\n",
       "      <td>0.00</td>\n",
       "      <td>0.00</td>\n",
       "      <td>NaN</td>\n",
       "    </tr>\n",
       "  </tbody>\n",
       "</table>\n",
       "</div>"
      ],
      "text/plain": [
       "       conversion_percent              \n",
       "Gender             female  male unknown\n",
       "Age                                    \n",
       "18-24                0.00  0.00     NaN\n",
       "25-34                0.06  0.06    0.04\n",
       "35-44                0.05  0.04    0.03\n",
       "45-54                0.00  0.00    0.00\n",
       "55-64                0.00  0.00    0.00\n",
       "65+                  0.00  0.00     NaN"
      ]
     },
     "execution_count": 135,
     "metadata": {},
     "output_type": "execute_result"
    }
   ],
   "source": [
    "x = pd.crosstab(ads['Age'], ads['Gender'], values = ads['Website Registrations Completed'], aggfunc=sum, margins=True)\n",
    "x\n",
    "x = ads[['Website Registrations Completed', 'Impressions', 'Gender', 'Age']].groupby(['Age','Gender']).sum()\n",
    "x['conversion_percent'] = round(x['Website Registrations Completed']/x['Impressions']*100,2)\n",
    "x = x.drop(['Website Registrations Completed', 'Impressions'], axis=1)\n",
    "x.unstack('Gender')"
   ]
  },
  {
   "cell_type": "code",
   "execution_count": 78,
   "metadata": {},
   "outputs": [],
   "source": [
    "%matplotlib inline\n",
    "def stacked_bar(df, x_var, category, values):\n",
    "    '''\n",
    "    Function to create a stacked bar chart with given x_var on x-axis, category as color coding,\n",
    "    and values as summed feature on y-axis.\n",
    "    '''\n",
    "    ax = pd.crosstab(df[x_var], df[category], values = df[values], aggfunc=sum, margins=True)\n",
    "    ax = ax.sort_values(by='All', ascending=False)\n",
    "    ax = ax.drop('All', axis=1)\n",
    "    ax = ax.drop('All', axis=0)\n",
    "    ax.plot.bar(stacked=True)"
   ]
  },
  {
   "cell_type": "code",
   "execution_count": 121,
   "metadata": {},
   "outputs": [
    {
     "data": {
      "image/png": "[encoded data removed]",
      "text/plain": [
       "<Figure size 432x288 with 1 Axes>"
      ]
     },
     "metadata": {
      "needs_background": "light"
     },
     "output_type": "display_data"
    }
   ],
   "source": [
    "stacked_bar(ads, 'Ad Set Name', 'Gender', 'Website Registrations Completed')"
   ]
  },
  {
   "cell_type": "code",
   "execution_count": 80,
   "metadata": {},
   "outputs": [
    {
     "data": {
      "image/png": "[encoded data removed]",
      "text/plain": [
       "<Figure size 432x288 with 1 Axes>"
      ]
     },
     "metadata": {
      "needs_background": "light"
     },
     "output_type": "display_data"
    }
   ],
   "source": [
    "stacked_bar(ads, 'Ad Set Name', 'Age', 'Website Registrations Completed')"
   ]
  },
  {
   "cell_type": "code",
   "execution_count": 94,
   "metadata": {},
   "outputs": [
    {
     "data": {
      "text/html": [
       "<div>\n",
       "<style scoped>\n",
       "    .dataframe tbody tr th:only-of-type {\n",
       "        vertical-align: middle;\n",
       "    }\n",
       "\n",
       "    .dataframe tbody tr th {\n",
       "        vertical-align: top;\n",
       "    }\n",
       "\n",
       "    .dataframe thead th {\n",
       "        text-align: right;\n",
       "    }\n",
       "</style>\n",
       "<table border=\"1\" class=\"dataframe\">\n",
       "  <thead>\n",
       "    <tr style=\"text-align: right;\">\n",
       "      <th></th>\n",
       "      <th>Impressions</th>\n",
       "      <th>Link Clicks</th>\n",
       "      <th>Website Leads</th>\n",
       "      <th>Website Registrations Completed</th>\n",
       "    </tr>\n",
       "    <tr>\n",
       "      <th>Ad Set Name</th>\n",
       "      <th></th>\n",
       "      <th></th>\n",
       "      <th></th>\n",
       "      <th></th>\n",
       "    </tr>\n",
       "  </thead>\n",
       "  <tbody>\n",
       "    <tr>\n",
       "      <th>1</th>\n",
       "      <td>29730</td>\n",
       "      <td>86.0</td>\n",
       "      <td>10.0</td>\n",
       "      <td>0.0</td>\n",
       "    </tr>\n",
       "    <tr>\n",
       "      <th>10</th>\n",
       "      <td>11317</td>\n",
       "      <td>110.0</td>\n",
       "      <td>20.0</td>\n",
       "      <td>4.0</td>\n",
       "    </tr>\n",
       "    <tr>\n",
       "      <th>11</th>\n",
       "      <td>9951</td>\n",
       "      <td>91.0</td>\n",
       "      <td>16.0</td>\n",
       "      <td>5.0</td>\n",
       "    </tr>\n",
       "    <tr>\n",
       "      <th>12</th>\n",
       "      <td>5985</td>\n",
       "      <td>34.0</td>\n",
       "      <td>12.0</td>\n",
       "      <td>10.0</td>\n",
       "    </tr>\n",
       "    <tr>\n",
       "      <th>13</th>\n",
       "      <td>130882</td>\n",
       "      <td>1877.0</td>\n",
       "      <td>422.0</td>\n",
       "      <td>110.0</td>\n",
       "    </tr>\n",
       "  </tbody>\n",
       "</table>\n",
       "</div>"
      ],
      "text/plain": [
       "             Impressions  Link Clicks  Website Leads  \\\n",
       "Ad Set Name                                            \n",
       "1                  29730         86.0           10.0   \n",
       "10                 11317        110.0           20.0   \n",
       "11                  9951         91.0           16.0   \n",
       "12                  5985         34.0           12.0   \n",
       "13                130882       1877.0          422.0   \n",
       "\n",
       "             Website Registrations Completed  \n",
       "Ad Set Name                                   \n",
       "1                                        0.0  \n",
       "10                                       4.0  \n",
       "11                                       5.0  \n",
       "12                                      10.0  \n",
       "13                                     110.0  "
      ]
     },
     "execution_count": 94,
     "metadata": {},
     "output_type": "execute_result"
    }
   ],
   "source": [
    "#Find the values for the funnel inputs\n",
    "funnel_features = [\"Impressions\", \"Link Clicks\", \"Website Leads\", \"Website Registrations Completed\", 'Ad Set Name']\n",
    "funnel_stats = ads[funnel_features].groupby('Ad Set Name').sum()\n",
    "funnel_stats.head()"
   ]
  },
  {
   "cell_type": "code",
   "execution_count": 119,
   "metadata": {},
   "outputs": [],
   "source": [
    "data = funnel_stats.loc['13',:]"
   ]
  },
  {
   "cell_type": "code",
   "execution_count": 120,
   "metadata": {},
   "outputs": [
    {
     "data": {
      "application/vnd.plotly.v1+json": {
       "config": {
        "plotlyServerURL": "https://plot.ly"
       },
       "data": [
        {
         "textinfo": "value+percent initial",
         "type": "funnel",
         "x": [
          130882,
          1877,
          422,
          110
         ],
         "y": [
          "Impressions",
          "Link Clicks",
          "Website Leads",
          "Website Registrations Completed"
         ]
        }
       ],
       "layout": {
        "template": {
         "data": {
          "bar": [
           {
            "error_x": {
             "color": "#2a3f5f"
            },
            "error_y": {
             "color": "#2a3f5f"
            },
            "marker": {
             "line": {
              "color": "#E5ECF6",
              "width": 0.5
             }
            },
            "type": "bar"
           }
          ],
          "barpolar": [
           {
            "marker": {
             "line": {
              "color": "#E5ECF6",
              "width": 0.5
             }
            },
            "type": "barpolar"
           }
          ],
          "carpet": [
           {
            "aaxis": {
             "endlinecolor": "#2a3f5f",
             "gridcolor": "white",
             "linecolor": "white",
             "minorgridcolor": "white",
             "startlinecolor": "#2a3f5f"
            },
            "baxis": {
             "endlinecolor": "#2a3f5f",
             "gridcolor": "white",
             "linecolor": "white",
             "minorgridcolor": "white",
             "startlinecolor": "#2a3f5f"
            },
            "type": "carpet"
           }
          ],
          "choropleth": [
           {
            "colorbar": {
             "outlinewidth": 0,
             "ticks": ""
            },
            "type": "choropleth"
           }
          ],
          "contour": [
           {
            "colorbar": {
             "outlinewidth": 0,
             "ticks": ""
            },
            "colorscale": [
             [
              0,
              "#0d0887"
             ],
             [
              0.1111111111111111,
              "#46039f"
             ],
             [
              0.2222222222222222,
              "#7201a8"
             ],
             [
              0.3333333333333333,
              "#9c179e"
             ],
             [
              0.4444444444444444,
              "#bd3786"
             ],
             [
              0.5555555555555556,
              "#d8576b"
             ],
             [
              0.6666666666666666,
              "#ed7953"
             ],
             [
              0.7777777777777778,
              "#fb9f3a"
             ],
             [
              0.8888888888888888,
              "#fdca26"
             ],
             [
              1,
              "#f0f921"
             ]
            ],
            "type": "contour"
           }
          ],
          "contourcarpet": [
           {
            "colorbar": {
             "outlinewidth": 0,
             "ticks": ""
            },
            "type": "contourcarpet"
           }
          ],
          "heatmap": [
           {
            "colorbar": {
             "outlinewidth": 0,
             "ticks": ""
            },
            "colorscale": [
             [
              0,
              "#0d0887"
             ],
             [
              0.1111111111111111,
              "#46039f"
             ],
             [
              0.2222222222222222,
              "#7201a8"
             ],
             [
              0.3333333333333333,
              "#9c179e"
             ],
             [
              0.4444444444444444,
              "#bd3786"
             ],
             [
              0.5555555555555556,
              "#d8576b"
             ],
             [
              0.6666666666666666,
              "#ed7953"
             ],
             [
              0.7777777777777778,
              "#fb9f3a"
             ],
             [
              0.8888888888888888,
              "#fdca26"
             ],
             [
              1,
              "#f0f921"
             ]
            ],
            "type": "heatmap"
           }
          ],
          "heatmapgl": [
           {
            "colorbar": {
             "outlinewidth": 0,
             "ticks": ""
            },
            "colorscale": [
             [
              0,
              "#0d0887"
             ],
             [
              0.1111111111111111,
              "#46039f"
             ],
             [
              0.2222222222222222,
              "#7201a8"
             ],
             [
              0.3333333333333333,
              "#9c179e"
             ],
             [
              0.4444444444444444,
              "#bd3786"
             ],
             [
              0.5555555555555556,
              "#d8576b"
             ],
             [
              0.6666666666666666,
              "#ed7953"
             ],
             [
              0.7777777777777778,
              "#fb9f3a"
             ],
             [
              0.8888888888888888,
              "#fdca26"
             ],
             [
              1,
              "#f0f921"
             ]
            ],
            "type": "heatmapgl"
           }
          ],
          "histogram": [
           {
            "marker": {
             "colorbar": {
              "outlinewidth": 0,
              "ticks": ""
             }
            },
            "type": "histogram"
           }
          ],
          "histogram2d": [
           {
            "colorbar": {
             "outlinewidth": 0,
             "ticks": ""
            },
            "colorscale": [
             [
              0,
              "#0d0887"
             ],
             [
              0.1111111111111111,
              "#46039f"
             ],
             [
              0.2222222222222222,
              "#7201a8"
             ],
             [
              0.3333333333333333,
              "#9c179e"
             ],
             [
              0.4444444444444444,
              "#bd3786"
             ],
             [
              0.5555555555555556,
              "#d8576b"
             ],
             [
              0.6666666666666666,
              "#ed7953"
             ],
             [
              0.7777777777777778,
              "#fb9f3a"
             ],
             [
              0.8888888888888888,
              "#fdca26"
             ],
             [
              1,
              "#f0f921"
             ]
            ],
            "type": "histogram2d"
           }
          ],
          "histogram2dcontour": [
           {
            "colorbar": {
             "outlinewidth": 0,
             "ticks": ""
            },
            "colorscale": [
             [
              0,
              "#0d0887"
             ],
             [
              0.1111111111111111,
              "#46039f"
             ],
             [
              0.2222222222222222,
              "#7201a8"
             ],
             [
              0.3333333333333333,
              "#9c179e"
             ],
             [
              0.4444444444444444,
              "#bd3786"
             ],
             [
              0.5555555555555556,
              "#d8576b"
             ],
             [
              0.6666666666666666,
              "#ed7953"
             ],
             [
              0.7777777777777778,
              "#fb9f3a"
             ],
             [
              0.8888888888888888,
              "#fdca26"
             ],
             [
              1,
              "#f0f921"
             ]
            ],
            "type": "histogram2dcontour"
           }
          ],
          "mesh3d": [
           {
            "colorbar": {
             "outlinewidth": 0,
             "ticks": ""
            },
            "type": "mesh3d"
           }
          ],
          "parcoords": [
           {
            "line": {
             "colorbar": {
              "outlinewidth": 0,
              "ticks": ""
             }
            },
            "type": "parcoords"
           }
          ],
          "pie": [
           {
            "automargin": true,
            "type": "pie"
           }
          ],
          "scatter": [
           {
            "marker": {
             "colorbar": {
              "outlinewidth": 0,
              "ticks": ""
             }
            },
            "type": "scatter"
           }
          ],
          "scatter3d": [
           {
            "line": {
             "colorbar": {
              "outlinewidth": 0,
              "ticks": ""
             }
            },
            "marker": {
             "colorbar": {
              "outlinewidth": 0,
              "ticks": ""
             }
            },
            "type": "scatter3d"
           }
          ],
          "scattercarpet": [
           {
            "marker": {
             "colorbar": {
              "outlinewidth": 0,
              "ticks": ""
             }
            },
            "type": "scattercarpet"
           }
          ],
          "scattergeo": [
           {
            "marker": {
             "colorbar": {
              "outlinewidth": 0,
              "ticks": ""
             }
            },
            "type": "scattergeo"
           }
          ],
          "scattergl": [
           {
            "marker": {
             "colorbar": {
              "outlinewidth": 0,
              "ticks": ""
             }
            },
            "type": "scattergl"
           }
          ],
          "scattermapbox": [
           {
            "marker": {
             "colorbar": {
              "outlinewidth": 0,
              "ticks": ""
             }
            },
            "type": "scattermapbox"
           }
          ],
          "scatterpolar": [
           {
            "marker": {
             "colorbar": {
              "outlinewidth": 0,
              "ticks": ""
             }
            },
            "type": "scatterpolar"
           }
          ],
          "scatterpolargl": [
           {
            "marker": {
             "colorbar": {
              "outlinewidth": 0,
              "ticks": ""
             }
            },
            "type": "scatterpolargl"
           }
          ],
          "scatterternary": [
           {
            "marker": {
             "colorbar": {
              "outlinewidth": 0,
              "ticks": ""
             }
            },
            "type": "scatterternary"
           }
          ],
          "surface": [
           {
            "colorbar": {
             "outlinewidth": 0,
             "ticks": ""
            },
            "colorscale": [
             [
              0,
              "#0d0887"
             ],
             [
              0.1111111111111111,
              "#46039f"
             ],
             [
              0.2222222222222222,
              "#7201a8"
             ],
             [
              0.3333333333333333,
              "#9c179e"
             ],
             [
              0.4444444444444444,
              "#bd3786"
             ],
             [
              0.5555555555555556,
              "#d8576b"
             ],
             [
              0.6666666666666666,
              "#ed7953"
             ],
             [
              0.7777777777777778,
              "#fb9f3a"
             ],
             [
              0.8888888888888888,
              "#fdca26"
             ],
             [
              1,
              "#f0f921"
             ]
            ],
            "type": "surface"
           }
          ],
          "table": [
           {
            "cells": {
             "fill": {
              "color": "#EBF0F8"
             },
             "line": {
              "color": "white"
             }
            },
            "header": {
             "fill": {
              "color": "#C8D4E3"
             },
             "line": {
              "color": "white"
             }
            },
            "type": "table"
           }
          ]
         },
         "layout": {
          "annotationdefaults": {
           "arrowcolor": "#2a3f5f",
           "arrowhead": 0,
           "arrowwidth": 1
          },
          "coloraxis": {
           "colorbar": {
            "outlinewidth": 0,
            "ticks": ""
           }
          },
          "colorscale": {
           "diverging": [
            [
             0,
             "#8e0152"
            ],
            [
             0.1,
             "#c51b7d"
            ],
            [
             0.2,
             "#de77ae"
            ],
            [
             0.3,
             "#f1b6da"
            ],
            [
             0.4,
             "#fde0ef"
            ],
            [
             0.5,
             "#f7f7f7"
            ],
            [
             0.6,
             "#e6f5d0"
            ],
            [
             0.7,
             "#b8e186"
            ],
            [
             0.8,
             "#7fbc41"
            ],
            [
             0.9,
             "#4d9221"
            ],
            [
             1,
             "#276419"
            ]
           ],
           "sequential": [
            [
             0,
             "#0d0887"
            ],
            [
             0.1111111111111111,
             "#46039f"
            ],
            [
             0.2222222222222222,
             "#7201a8"
            ],
            [
             0.3333333333333333,
             "#9c179e"
            ],
            [
             0.4444444444444444,
             "#bd3786"
            ],
            [
             0.5555555555555556,
             "#d8576b"
            ],
            [
             0.6666666666666666,
             "#ed7953"
            ],
            [
             0.7777777777777778,
             "#fb9f3a"
            ],
            [
             0.8888888888888888,
             "#fdca26"
            ],
            [
             1,
             "#f0f921"
            ]
           ],
           "sequentialminus": [
            [
             0,
             "#0d0887"
            ],
            [
             0.1111111111111111,
             "#46039f"
            ],
            [
             0.2222222222222222,
             "#7201a8"
            ],
            [
             0.3333333333333333,
             "#9c179e"
            ],
            [
             0.4444444444444444,
             "#bd3786"
            ],
            [
             0.5555555555555556,
             "#d8576b"
            ],
            [
             0.6666666666666666,
             "#ed7953"
            ],
            [
             0.7777777777777778,
             "#fb9f3a"
            ],
            [
             0.8888888888888888,
             "#fdca26"
            ],
            [
             1,
             "#f0f921"
            ]
           ]
          },
          "colorway": [
           "#636efa",
           "#EF553B",
           "#00cc96",
           "#ab63fa",
           "#FFA15A",
           "#19d3f3",
           "#FF6692",
           "#B6E880",
           "#FF97FF",
           "#FECB52"
          ],
          "font": {
           "color": "#2a3f5f"
          },
          "geo": {
           "bgcolor": "white",
           "lakecolor": "white",
           "landcolor": "#E5ECF6",
           "showlakes": true,
           "showland": true,
           "subunitcolor": "white"
          },
          "hoverlabel": {
           "align": "left"
          },
          "hovermode": "closest",
          "mapbox": {
           "style": "light"
          },
          "paper_bgcolor": "white",
          "plot_bgcolor": "#E5ECF6",
          "polar": {
           "angularaxis": {
            "gridcolor": "white",
            "linecolor": "white",
            "ticks": ""
           },
           "bgcolor": "#E5ECF6",
           "radialaxis": {
            "gridcolor": "white",
            "linecolor": "white",
            "ticks": ""
           }
          },
          "scene": {
           "xaxis": {
            "backgroundcolor": "#E5ECF6",
            "gridcolor": "white",
            "gridwidth": 2,
            "linecolor": "white",
            "showbackground": true,
            "ticks": "",
            "zerolinecolor": "white"
           },
           "yaxis": {
            "backgroundcolor": "#E5ECF6",
            "gridcolor": "white",
            "gridwidth": 2,
            "linecolor": "white",
            "showbackground": true,
            "ticks": "",
            "zerolinecolor": "white"
           },
           "zaxis": {
            "backgroundcolor": "#E5ECF6",
            "gridcolor": "white",
            "gridwidth": 2,
            "linecolor": "white",
            "showbackground": true,
            "ticks": "",
            "zerolinecolor": "white"
           }
          },
          "shapedefaults": {
           "line": {
            "color": "#2a3f5f"
           }
          },
          "ternary": {
           "aaxis": {
            "gridcolor": "white",
            "linecolor": "white",
            "ticks": ""
           },
           "baxis": {
            "gridcolor": "white",
            "linecolor": "white",
            "ticks": ""
           },
           "bgcolor": "#E5ECF6",
           "caxis": {
            "gridcolor": "white",
            "linecolor": "white",
            "ticks": ""
           }
          },
          "title": {
           "x": 0.05
          },
          "xaxis": {
           "automargin": true,
           "gridcolor": "white",
           "linecolor": "white",
           "ticks": "",
           "title": {
            "standoff": 15
           },
           "zerolinecolor": "white",
           "zerolinewidth": 2
          },
          "yaxis": {
           "automargin": true,
           "gridcolor": "white",
           "linecolor": "white",
           "ticks": "",
           "title": {
            "standoff": 15
           },
           "zerolinecolor": "white",
           "zerolinewidth": 2
          }
         }
        }
       }
      },
      "text/html": [
       "<div>\n",
       "        \n",
       "        \n",
       "            <div id=\"2ff726f1-59c9-48be-b94d-dc4bb83ec165\" class=\"plotly-graph-div\" style=\"height:525px; width:100%;\"></div>\n",
       "            <script type=\"text/javascript\">\n",
       "                require([\"plotly\"], function(Plotly) {\n",
       "                    window.PLOTLYENV=window.PLOTLYENV || {};\n",
       "                    \n",
       "                if (document.getElementById(\"2ff726f1-59c9-48be-b94d-dc4bb83ec165\")) {\n",
       "                    Plotly.newPlot(\n",
       "                        '2ff726f1-59c9-48be-b94d-dc4bb83ec165',\n",
       "                        [{\"textinfo\": \"value+percent initial\", \"type\": \"funnel\", \"x\": [130882.0, 1877.0, 422.0, 110.0], \"y\": [\"Impressions\", \"Link Clicks\", \"Website Leads\", \"Website Registrations Completed\"]}],\n",
       "                        {\"template\": {\"data\": {\"bar\": [{\"error_x\": {\"color\": \"#2a3f5f\"}, \"error_y\": {\"color\": \"#2a3f5f\"}, \"marker\": {\"line\": {\"color\": \"#E5ECF6\", \"width\": 0.5}}, \"type\": \"bar\"}], \"barpolar\": [{\"marker\": {\"line\": {\"color\": \"#E5ECF6\", \"width\": 0.5}}, \"type\": \"barpolar\"}], \"carpet\": [{\"aaxis\": {\"endlinecolor\": \"#2a3f5f\", \"gridcolor\": \"white\", \"linecolor\": \"white\", \"minorgridcolor\": \"white\", \"startlinecolor\": \"#2a3f5f\"}, \"baxis\": {\"endlinecolor\": \"#2a3f5f\", \"gridcolor\": \"white\", \"linecolor\": \"white\", \"minorgridcolor\": \"white\", \"startlinecolor\": \"#2a3f5f\"}, \"type\": \"carpet\"}], \"choropleth\": [{\"colorbar\": {\"outlinewidth\": 0, \"ticks\": \"\"}, \"type\": \"choropleth\"}], \"contour\": [{\"colorbar\": {\"outlinewidth\": 0, \"ticks\": \"\"}, \"colorscale\": [[0.0, \"#0d0887\"], [0.1111111111111111, \"#46039f\"], [0.2222222222222222, \"#7201a8\"], [0.3333333333333333, \"#9c179e\"], [0.4444444444444444, \"#bd3786\"], [0.5555555555555556, \"#d8576b\"], [0.6666666666666666, \"#ed7953\"], [0.7777777777777778, \"#fb9f3a\"], [0.8888888888888888, \"#fdca26\"], [1.0, \"#f0f921\"]], \"type\": \"contour\"}], \"contourcarpet\": [{\"colorbar\": {\"outlinewidth\": 0, \"ticks\": \"\"}, \"type\": \"contourcarpet\"}], \"heatmap\": [{\"colorbar\": {\"outlinewidth\": 0, \"ticks\": \"\"}, \"colorscale\": [[0.0, \"#0d0887\"], [0.1111111111111111, \"#46039f\"], [0.2222222222222222, \"#7201a8\"], [0.3333333333333333, \"#9c179e\"], [0.4444444444444444, \"#bd3786\"], [0.5555555555555556, \"#d8576b\"], [0.6666666666666666, \"#ed7953\"], [0.7777777777777778, \"#fb9f3a\"], [0.8888888888888888, \"#fdca26\"], [1.0, \"#f0f921\"]], \"type\": \"heatmap\"}], \"heatmapgl\": [{\"colorbar\": {\"outlinewidth\": 0, \"ticks\": \"\"}, \"colorscale\": [[0.0, \"#0d0887\"], [0.1111111111111111, \"#46039f\"], [0.2222222222222222, \"#7201a8\"], [0.3333333333333333, \"#9c179e\"], [0.4444444444444444, \"#bd3786\"], [0.5555555555555556, \"#d8576b\"], [0.6666666666666666, \"#ed7953\"], [0.7777777777777778, \"#fb9f3a\"], [0.8888888888888888, \"#fdca26\"], [1.0, \"#f0f921\"]], \"type\": \"heatmapgl\"}], \"histogram\": [{\"marker\": {\"colorbar\": {\"outlinewidth\": 0, \"ticks\": \"\"}}, \"type\": \"histogram\"}], \"histogram2d\": [{\"colorbar\": {\"outlinewidth\": 0, \"ticks\": \"\"}, \"colorscale\": [[0.0, \"#0d0887\"], [0.1111111111111111, \"#46039f\"], [0.2222222222222222, \"#7201a8\"], [0.3333333333333333, \"#9c179e\"], [0.4444444444444444, \"#bd3786\"], [0.5555555555555556, \"#d8576b\"], [0.6666666666666666, \"#ed7953\"], [0.7777777777777778, \"#fb9f3a\"], [0.8888888888888888, \"#fdca26\"], [1.0, \"#f0f921\"]], \"type\": \"histogram2d\"}], \"histogram2dcontour\": [{\"colorbar\": {\"outlinewidth\": 0, \"ticks\": \"\"}, \"colorscale\": [[0.0, \"#0d0887\"], [0.1111111111111111, \"#46039f\"], [0.2222222222222222, \"#7201a8\"], [0.3333333333333333, \"#9c179e\"], [0.4444444444444444, \"#bd3786\"], [0.5555555555555556, \"#d8576b\"], [0.6666666666666666, \"#ed7953\"], [0.7777777777777778, \"#fb9f3a\"], [0.8888888888888888, \"#fdca26\"], [1.0, \"#f0f921\"]], \"type\": \"histogram2dcontour\"}], \"mesh3d\": [{\"colorbar\": {\"outlinewidth\": 0, \"ticks\": \"\"}, \"type\": \"mesh3d\"}], \"parcoords\": [{\"line\": {\"colorbar\": {\"outlinewidth\": 0, \"ticks\": \"\"}}, \"type\": \"parcoords\"}], \"pie\": [{\"automargin\": true, \"type\": \"pie\"}], \"scatter\": [{\"marker\": {\"colorbar\": {\"outlinewidth\": 0, \"ticks\": \"\"}}, \"type\": \"scatter\"}], \"scatter3d\": [{\"line\": {\"colorbar\": {\"outlinewidth\": 0, \"ticks\": \"\"}}, \"marker\": {\"colorbar\": {\"outlinewidth\": 0, \"ticks\": \"\"}}, \"type\": \"scatter3d\"}], \"scattercarpet\": [{\"marker\": {\"colorbar\": {\"outlinewidth\": 0, \"ticks\": \"\"}}, \"type\": \"scattercarpet\"}], \"scattergeo\": [{\"marker\": {\"colorbar\": {\"outlinewidth\": 0, \"ticks\": \"\"}}, \"type\": \"scattergeo\"}], \"scattergl\": [{\"marker\": {\"colorbar\": {\"outlinewidth\": 0, \"ticks\": \"\"}}, \"type\": \"scattergl\"}], \"scattermapbox\": [{\"marker\": {\"colorbar\": {\"outlinewidth\": 0, \"ticks\": \"\"}}, \"type\": \"scattermapbox\"}], \"scatterpolar\": [{\"marker\": {\"colorbar\": {\"outlinewidth\": 0, \"ticks\": \"\"}}, \"type\": \"scatterpolar\"}], \"scatterpolargl\": [{\"marker\": {\"colorbar\": {\"outlinewidth\": 0, \"ticks\": \"\"}}, \"type\": \"scatterpolargl\"}], \"scatterternary\": [{\"marker\": {\"colorbar\": {\"outlinewidth\": 0, \"ticks\": \"\"}}, \"type\": \"scatterternary\"}], \"surface\": [{\"colorbar\": {\"outlinewidth\": 0, \"ticks\": \"\"}, \"colorscale\": [[0.0, \"#0d0887\"], [0.1111111111111111, \"#46039f\"], [0.2222222222222222, \"#7201a8\"], [0.3333333333333333, \"#9c179e\"], [0.4444444444444444, \"#bd3786\"], [0.5555555555555556, \"#d8576b\"], [0.6666666666666666, \"#ed7953\"], [0.7777777777777778, \"#fb9f3a\"], [0.8888888888888888, \"#fdca26\"], [1.0, \"#f0f921\"]], \"type\": \"surface\"}], \"table\": [{\"cells\": {\"fill\": {\"color\": \"#EBF0F8\"}, \"line\": {\"color\": \"white\"}}, \"header\": {\"fill\": {\"color\": \"#C8D4E3\"}, \"line\": {\"color\": \"white\"}}, \"type\": \"table\"}]}, \"layout\": {\"annotationdefaults\": {\"arrowcolor\": \"#2a3f5f\", \"arrowhead\": 0, \"arrowwidth\": 1}, \"coloraxis\": {\"colorbar\": {\"outlinewidth\": 0, \"ticks\": \"\"}}, \"colorscale\": {\"diverging\": [[0, \"#8e0152\"], [0.1, \"#c51b7d\"], [0.2, \"#de77ae\"], [0.3, \"#f1b6da\"], [0.4, \"#fde0ef\"], [0.5, \"#f7f7f7\"], [0.6, \"#e6f5d0\"], [0.7, \"#b8e186\"], [0.8, \"#7fbc41\"], [0.9, \"#4d9221\"], [1, \"#276419\"]], \"sequential\": [[0.0, \"#0d0887\"], [0.1111111111111111, \"#46039f\"], [0.2222222222222222, \"#7201a8\"], [0.3333333333333333, \"#9c179e\"], [0.4444444444444444, \"#bd3786\"], [0.5555555555555556, \"#d8576b\"], [0.6666666666666666, \"#ed7953\"], [0.7777777777777778, \"#fb9f3a\"], [0.8888888888888888, \"#fdca26\"], [1.0, \"#f0f921\"]], \"sequentialminus\": [[0.0, \"#0d0887\"], [0.1111111111111111, \"#46039f\"], [0.2222222222222222, \"#7201a8\"], [0.3333333333333333, \"#9c179e\"], [0.4444444444444444, \"#bd3786\"], [0.5555555555555556, \"#d8576b\"], [0.6666666666666666, \"#ed7953\"], [0.7777777777777778, \"#fb9f3a\"], [0.8888888888888888, \"#fdca26\"], [1.0, \"#f0f921\"]]}, \"colorway\": [\"#636efa\", \"#EF553B\", \"#00cc96\", \"#ab63fa\", \"#FFA15A\", \"#19d3f3\", \"#FF6692\", \"#B6E880\", \"#FF97FF\", \"#FECB52\"], \"font\": {\"color\": \"#2a3f5f\"}, \"geo\": {\"bgcolor\": \"white\", \"lakecolor\": \"white\", \"landcolor\": \"#E5ECF6\", \"showlakes\": true, \"showland\": true, \"subunitcolor\": \"white\"}, \"hoverlabel\": {\"align\": \"left\"}, \"hovermode\": \"closest\", \"mapbox\": {\"style\": \"light\"}, \"paper_bgcolor\": \"white\", \"plot_bgcolor\": \"#E5ECF6\", \"polar\": {\"angularaxis\": {\"gridcolor\": \"white\", \"linecolor\": \"white\", \"ticks\": \"\"}, \"bgcolor\": \"#E5ECF6\", \"radialaxis\": {\"gridcolor\": \"white\", \"linecolor\": \"white\", \"ticks\": \"\"}}, \"scene\": {\"xaxis\": {\"backgroundcolor\": \"#E5ECF6\", \"gridcolor\": \"white\", \"gridwidth\": 2, \"linecolor\": \"white\", \"showbackground\": true, \"ticks\": \"\", \"zerolinecolor\": \"white\"}, \"yaxis\": {\"backgroundcolor\": \"#E5ECF6\", \"gridcolor\": \"white\", \"gridwidth\": 2, \"linecolor\": \"white\", \"showbackground\": true, \"ticks\": \"\", \"zerolinecolor\": \"white\"}, \"zaxis\": {\"backgroundcolor\": \"#E5ECF6\", \"gridcolor\": \"white\", \"gridwidth\": 2, \"linecolor\": \"white\", \"showbackground\": true, \"ticks\": \"\", \"zerolinecolor\": \"white\"}}, \"shapedefaults\": {\"line\": {\"color\": \"#2a3f5f\"}}, \"ternary\": {\"aaxis\": {\"gridcolor\": \"white\", \"linecolor\": \"white\", \"ticks\": \"\"}, \"baxis\": {\"gridcolor\": \"white\", \"linecolor\": \"white\", \"ticks\": \"\"}, \"bgcolor\": \"#E5ECF6\", \"caxis\": {\"gridcolor\": \"white\", \"linecolor\": \"white\", \"ticks\": \"\"}}, \"title\": {\"x\": 0.05}, \"xaxis\": {\"automargin\": true, \"gridcolor\": \"white\", \"linecolor\": \"white\", \"ticks\": \"\", \"title\": {\"standoff\": 15}, \"zerolinecolor\": \"white\", \"zerolinewidth\": 2}, \"yaxis\": {\"automargin\": true, \"gridcolor\": \"white\", \"linecolor\": \"white\", \"ticks\": \"\", \"title\": {\"standoff\": 15}, \"zerolinecolor\": \"white\", \"zerolinewidth\": 2}}}},\n",
       "                        {\"responsive\": true}\n",
       "                    ).then(function(){\n",
       "                            \n",
       "var gd = document.getElementById('2ff726f1-59c9-48be-b94d-dc4bb83ec165');\n",
       "var x = new MutationObserver(function (mutations, observer) {{\n",
       "        var display = window.getComputedStyle(gd).display;\n",
       "        if (!display || display === 'none') {{\n",
       "            console.log([gd, 'removed!']);\n",
       "            Plotly.purge(gd);\n",
       "            observer.disconnect();\n",
       "        }}\n",
       "}});\n",
       "\n",
       "// Listen for the removal of the full notebook cells\n",
       "var notebookContainer = gd.closest('#notebook-container');\n",
       "if (notebookContainer) {{\n",
       "    x.observe(notebookContainer, {childList: true});\n",
       "}}\n",
       "\n",
       "// Listen for the clearing of the current output cell\n",
       "var outputEl = gd.closest('.output');\n",
       "if (outputEl) {{\n",
       "    x.observe(outputEl, {childList: true});\n",
       "}}\n",
       "\n",
       "                        })\n",
       "                };\n",
       "                });\n",
       "            </script>\n",
       "        </div>"
      ]
     },
     "metadata": {},
     "output_type": "display_data"
    }
   ],
   "source": [
    "import plotly.express as px\n",
    "from plotly import graph_objects as go\n",
    "fig = go.Figure(go.Funnel(x=data.values, y=data.index, textinfo = \"value+percent initial\"))\n",
    "fig.show()"
   ]
  },
  {
   "cell_type": "markdown",
   "metadata": {},
   "source": [
    "Perform an analysis and visualization to show the relationship between registrations completed and specific age groups and ad campaigns.\n",
    "Also include a bit about the acquisition cost"
   ]
  },
  {
   "cell_type": "markdown",
   "metadata": {},
   "source": [
    "• Each ad set is targeting a unique audience (anonymous), within them they have groups\n",
    "of ads that get distributed on a cost per impression basis.\n",
    "• Reach: how many unique people are reached (not to be confused with impressions)\n",
    "• Frequency: how many times on average someone within the ad set audience was\n",
    "reached during the duration of the campaign.\n",
    "• Amount Spend: dollars spent during duration of campaign\n",
    "• Impressions: number of times the ad appeared in front of someone\n",
    "• CTR: link clicks based on number of impressions (not reach)\n",
    "• Post Share: they actually share the ad to all their friends\n",
    "• Post Comment: they write something on an ad’s comments section\n",
    "• Post Reaction: they “like” or “dislike” the ad"
   ]
  }
 ],
 "metadata": {
  "kernelspec": {
   "display_name": "Python 3",
   "language": "python",
   "name": "python3"
  },
  "language_info": {
   "codemirror_mode": {
    "name": "ipython",
    "version": 3
   },
   "file_extension": ".py",
   "mimetype": "text/x-python",
   "name": "python",
   "nbconvert_exporter": "python",
   "pygments_lexer": "ipython3",
   "version": "3.8.3"
  }
 },
 "nbformat": 4,
 "nbformat_minor": 4
}
